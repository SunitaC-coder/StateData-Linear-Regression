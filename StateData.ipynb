{
 "cells": [
  {
   "cell_type": "markdown",
   "metadata": {},
   "source": [
    "# State Data\n",
    "\n",
    "In this exercise, we will be examining the \"state\" dataset, which has data from the 1970s on all fifty US states. For each state, the dataset includes the population, per capita income, illiteracy rate, murder rate, high school graduation rate, average number of frost days, area, latitude and longitude, division the state belongs to, region the state belongs to, and two-letter abbreviation."
   ]
  },
  {
   "cell_type": "markdown",
   "metadata": {},
   "source": [
    "statedata (CSV):\n",
    "\n",
    "This dataset has 50 observations (one for each US state) and the following 15 variables:\n",
    "\n",
    "Population - the population estimate of the state in 1975\n",
    "Income - per capita income in 1974\n",
    "Illiteracy - illiteracy rates in 1970, as a percent of the population\n",
    "Life.Exp - the life expectancy in years of residents of the state in 1970\n",
    "Murder - the murder and non-negligent manslaughter rate per 100,000 population in 1976 \n",
    "HS.Grad - percent of high-school graduates in 1970\n",
    "Frost - the mean number of days with minimum temperature below freezing from 1931–1960 in the capital or a large city of the state\n",
    "Area - the land area (in square miles) of the state\n",
    "state.abb - a 2-letter abreviation for each state\n",
    "state.area - the area of each state, in square miles\n",
    "x - the longitude of the center of the state\n",
    "y - the latitude of the center of the state\n",
    "state.division - the division each state belongs to (New England, Middle Atlantic, South Atlantic, East South Central, West South Central, East North Central, West North Central, Mountain, or Pacific)\n",
    "state.name - the full names of each state\n",
    "state.region - the region each state belong to (Northeast, South, North Central, or West)"
   ]
  },
  {
   "cell_type": "code",
   "execution_count": 231,
   "metadata": {},
   "outputs": [],
   "source": [
    "import numpy as np\n",
    "import matplotlib.pyplot as plt\n",
    "from matplotlib import style\n",
    "import pandas as pd\n",
    "from sklearn.linear_model import LinearRegression\n",
    "import statsmodels.api as sm\n",
    "from sklearn import metrics\n",
    "from scipy import stats\n",
    "import seaborn as sns\n",
    "import math\n",
    "\n",
    "%matplotlib inline"
   ]
  },
  {
   "cell_type": "code",
   "execution_count": 232,
   "metadata": {},
   "outputs": [],
   "source": [
    "statedata = pd.read_csv('statedata.csv')"
   ]
  },
  {
   "cell_type": "markdown",
   "metadata": {},
   "source": [
    "# Data Exploration"
   ]
  },
  {
   "cell_type": "code",
   "execution_count": 233,
   "metadata": {},
   "outputs": [
    {
     "data": {
      "text/html": [
       "<div>\n",
       "<style scoped>\n",
       "    .dataframe tbody tr th:only-of-type {\n",
       "        vertical-align: middle;\n",
       "    }\n",
       "\n",
       "    .dataframe tbody tr th {\n",
       "        vertical-align: top;\n",
       "    }\n",
       "\n",
       "    .dataframe thead th {\n",
       "        text-align: right;\n",
       "    }\n",
       "</style>\n",
       "<table border=\"1\" class=\"dataframe\">\n",
       "  <thead>\n",
       "    <tr style=\"text-align: right;\">\n",
       "      <th></th>\n",
       "      <th>Population</th>\n",
       "      <th>Income</th>\n",
       "      <th>Illiteracy</th>\n",
       "      <th>Life.Exp</th>\n",
       "      <th>Murder</th>\n",
       "      <th>HS.Grad</th>\n",
       "      <th>Frost</th>\n",
       "      <th>Area</th>\n",
       "      <th>state.abb</th>\n",
       "      <th>state.area</th>\n",
       "      <th>x</th>\n",
       "      <th>y</th>\n",
       "      <th>state.division</th>\n",
       "      <th>state.name</th>\n",
       "      <th>state.region</th>\n",
       "    </tr>\n",
       "  </thead>\n",
       "  <tbody>\n",
       "    <tr>\n",
       "      <th>0</th>\n",
       "      <td>3615</td>\n",
       "      <td>3624</td>\n",
       "      <td>2.1</td>\n",
       "      <td>69.05</td>\n",
       "      <td>15.1</td>\n",
       "      <td>41.3</td>\n",
       "      <td>20</td>\n",
       "      <td>50708</td>\n",
       "      <td>AL</td>\n",
       "      <td>51609</td>\n",
       "      <td>-86.7509</td>\n",
       "      <td>32.5901</td>\n",
       "      <td>East South Central</td>\n",
       "      <td>Alabama</td>\n",
       "      <td>South</td>\n",
       "    </tr>\n",
       "    <tr>\n",
       "      <th>1</th>\n",
       "      <td>365</td>\n",
       "      <td>6315</td>\n",
       "      <td>1.5</td>\n",
       "      <td>69.31</td>\n",
       "      <td>11.3</td>\n",
       "      <td>66.7</td>\n",
       "      <td>152</td>\n",
       "      <td>566432</td>\n",
       "      <td>AK</td>\n",
       "      <td>589757</td>\n",
       "      <td>-127.2500</td>\n",
       "      <td>49.2500</td>\n",
       "      <td>Pacific</td>\n",
       "      <td>Alaska</td>\n",
       "      <td>West</td>\n",
       "    </tr>\n",
       "    <tr>\n",
       "      <th>2</th>\n",
       "      <td>2212</td>\n",
       "      <td>4530</td>\n",
       "      <td>1.8</td>\n",
       "      <td>70.55</td>\n",
       "      <td>7.8</td>\n",
       "      <td>58.1</td>\n",
       "      <td>15</td>\n",
       "      <td>113417</td>\n",
       "      <td>AZ</td>\n",
       "      <td>113909</td>\n",
       "      <td>-111.6250</td>\n",
       "      <td>34.2192</td>\n",
       "      <td>Mountain</td>\n",
       "      <td>Arizona</td>\n",
       "      <td>West</td>\n",
       "    </tr>\n",
       "    <tr>\n",
       "      <th>3</th>\n",
       "      <td>2110</td>\n",
       "      <td>3378</td>\n",
       "      <td>1.9</td>\n",
       "      <td>70.66</td>\n",
       "      <td>10.1</td>\n",
       "      <td>39.9</td>\n",
       "      <td>65</td>\n",
       "      <td>51945</td>\n",
       "      <td>AR</td>\n",
       "      <td>53104</td>\n",
       "      <td>-92.2992</td>\n",
       "      <td>34.7336</td>\n",
       "      <td>West South Central</td>\n",
       "      <td>Arkansas</td>\n",
       "      <td>South</td>\n",
       "    </tr>\n",
       "    <tr>\n",
       "      <th>4</th>\n",
       "      <td>21198</td>\n",
       "      <td>5114</td>\n",
       "      <td>1.1</td>\n",
       "      <td>71.71</td>\n",
       "      <td>10.3</td>\n",
       "      <td>62.6</td>\n",
       "      <td>20</td>\n",
       "      <td>156361</td>\n",
       "      <td>CA</td>\n",
       "      <td>158693</td>\n",
       "      <td>-119.7730</td>\n",
       "      <td>36.5341</td>\n",
       "      <td>Pacific</td>\n",
       "      <td>California</td>\n",
       "      <td>West</td>\n",
       "    </tr>\n",
       "  </tbody>\n",
       "</table>\n",
       "</div>"
      ],
      "text/plain": [
       "   Population  Income  Illiteracy  Life.Exp  Murder  HS.Grad  Frost    Area  \\\n",
       "0        3615    3624         2.1     69.05    15.1     41.3     20   50708   \n",
       "1         365    6315         1.5     69.31    11.3     66.7    152  566432   \n",
       "2        2212    4530         1.8     70.55     7.8     58.1     15  113417   \n",
       "3        2110    3378         1.9     70.66    10.1     39.9     65   51945   \n",
       "4       21198    5114         1.1     71.71    10.3     62.6     20  156361   \n",
       "\n",
       "  state.abb  state.area         x        y      state.division  state.name  \\\n",
       "0        AL       51609  -86.7509  32.5901  East South Central     Alabama   \n",
       "1        AK      589757 -127.2500  49.2500             Pacific      Alaska   \n",
       "2        AZ      113909 -111.6250  34.2192            Mountain     Arizona   \n",
       "3        AR       53104  -92.2992  34.7336  West South Central    Arkansas   \n",
       "4        CA      158693 -119.7730  36.5341             Pacific  California   \n",
       "\n",
       "  state.region  \n",
       "0        South  \n",
       "1         West  \n",
       "2         West  \n",
       "3        South  \n",
       "4         West  "
      ]
     },
     "execution_count": 233,
     "metadata": {},
     "output_type": "execute_result"
    }
   ],
   "source": [
    "statedata.head()"
   ]
  },
  {
   "cell_type": "markdown",
   "metadata": {},
   "source": [
    "We begin by exploring the data. We plot all of the states' centers with latitude on the y axis (the \"y\" variable in our dataset) and longitude on the x axis (the \"x\" variable in our dataset). The shape of the plot looks like the outline of the United States! Note that Alaska and Hawaii have their coordinates adjusted to appear just off of the west coast."
   ]
  },
  {
   "cell_type": "code",
   "execution_count": 234,
   "metadata": {},
   "outputs": [
    {
     "data": {
      "text/plain": [
       "<matplotlib.collections.PathCollection at 0x22476c3b320>"
      ]
     },
     "execution_count": 234,
     "metadata": {},
     "output_type": "execute_result"
    },
    {
     "data": {
      "image/png": "[encoded data removed]",
      "text/plain": [
       "<Figure size 432x288 with 1 Axes>"
      ]
     },
     "metadata": {
      "needs_background": "light"
     },
     "output_type": "display_data"
    }
   ],
   "source": [
    "plt.scatter(statedata['x'],statedata['y'])"
   ]
  },
  {
   "cell_type": "markdown",
   "metadata": {},
   "source": [
    "Now, we determine which region of the US (West, North Central, South, or Northeast) has the highest average high school graduation rate of all the states in the region:"
   ]
  },
  {
   "cell_type": "code",
   "execution_count": 235,
   "metadata": {},
   "outputs": [
    {
     "data": {
      "text/html": [
       "<div>\n",
       "<style scoped>\n",
       "    .dataframe tbody tr th:only-of-type {\n",
       "        vertical-align: middle;\n",
       "    }\n",
       "\n",
       "    .dataframe tbody tr th {\n",
       "        vertical-align: top;\n",
       "    }\n",
       "\n",
       "    .dataframe thead th {\n",
       "        text-align: right;\n",
       "    }\n",
       "</style>\n",
       "<table border=\"1\" class=\"dataframe\">\n",
       "  <thead>\n",
       "    <tr style=\"text-align: right;\">\n",
       "      <th></th>\n",
       "      <th>Population</th>\n",
       "      <th>Income</th>\n",
       "      <th>Illiteracy</th>\n",
       "      <th>Life.Exp</th>\n",
       "      <th>Murder</th>\n",
       "      <th>HS.Grad</th>\n",
       "      <th>Frost</th>\n",
       "      <th>Area</th>\n",
       "      <th>state.abb</th>\n",
       "      <th>state.area</th>\n",
       "      <th>x</th>\n",
       "      <th>y</th>\n",
       "      <th>state.division</th>\n",
       "      <th>state.name</th>\n",
       "      <th>state.region</th>\n",
       "    </tr>\n",
       "  </thead>\n",
       "  <tbody>\n",
       "    <tr>\n",
       "      <th>43</th>\n",
       "      <td>1203</td>\n",
       "      <td>4022</td>\n",
       "      <td>0.6</td>\n",
       "      <td>72.9</td>\n",
       "      <td>4.5</td>\n",
       "      <td>67.3</td>\n",
       "      <td>137</td>\n",
       "      <td>82096</td>\n",
       "      <td>UT</td>\n",
       "      <td>84916</td>\n",
       "      <td>-111.33</td>\n",
       "      <td>39.1063</td>\n",
       "      <td>Mountain</td>\n",
       "      <td>Utah</td>\n",
       "      <td>West</td>\n",
       "    </tr>\n",
       "  </tbody>\n",
       "</table>\n",
       "</div>"
      ],
      "text/plain": [
       "    Population  Income  Illiteracy  Life.Exp  Murder  HS.Grad  Frost   Area  \\\n",
       "43        1203    4022         0.6      72.9     4.5     67.3    137  82096   \n",
       "\n",
       "   state.abb  state.area       x        y state.division state.name  \\\n",
       "43        UT       84916 -111.33  39.1063       Mountain       Utah   \n",
       "\n",
       "   state.region  \n",
       "43         West  "
      ]
     },
     "execution_count": 235,
     "metadata": {},
     "output_type": "execute_result"
    }
   ],
   "source": [
    "statedata[statedata[\"HS.Grad\"] == statedata[\"HS.Grad\"].max()]"
   ]
  },
  {
   "cell_type": "markdown",
   "metadata": {},
   "source": [
    "Next, we make a boxplot of the murder rate by region, find which region has the highest median murder rate."
   ]
  },
  {
   "cell_type": "code",
   "execution_count": 236,
   "metadata": {},
   "outputs": [
    {
     "data": {
      "image/png": "[encoded data removed]",
      "text/plain": [
       "<Figure size 432x288 with 1 Axes>"
      ]
     },
     "metadata": {
      "needs_background": "light"
     },
     "output_type": "display_data"
    }
   ],
   "source": [
    "sns.boxplot( y=statedata[\"Murder\"], x=statedata[\"state.region\"] );\n",
    "plt.show()"
   ]
  },
  {
   "cell_type": "markdown",
   "metadata": {},
   "source": [
    "We see that there is an outlier in the Northeast region of the boxplot generated. We try to find which state does this correspond to. For this we make a subset of the Northeast region."
   ]
  },
  {
   "cell_type": "code",
   "execution_count": 237,
   "metadata": {},
   "outputs": [],
   "source": [
    "Northeast = statedata[statedata[\"state.region\"] == 'Northeast']"
   ]
  },
  {
   "cell_type": "code",
   "execution_count": 238,
   "metadata": {},
   "outputs": [
    {
     "data": {
      "text/html": [
       "<div>\n",
       "<style scoped>\n",
       "    .dataframe tbody tr th:only-of-type {\n",
       "        vertical-align: middle;\n",
       "    }\n",
       "\n",
       "    .dataframe tbody tr th {\n",
       "        vertical-align: top;\n",
       "    }\n",
       "\n",
       "    .dataframe thead th {\n",
       "        text-align: right;\n",
       "    }\n",
       "</style>\n",
       "<table border=\"1\" class=\"dataframe\">\n",
       "  <thead>\n",
       "    <tr style=\"text-align: right;\">\n",
       "      <th></th>\n",
       "      <th>Population</th>\n",
       "      <th>Income</th>\n",
       "      <th>Illiteracy</th>\n",
       "      <th>Life.Exp</th>\n",
       "      <th>Murder</th>\n",
       "      <th>HS.Grad</th>\n",
       "      <th>Frost</th>\n",
       "      <th>Area</th>\n",
       "      <th>state.abb</th>\n",
       "      <th>state.area</th>\n",
       "      <th>x</th>\n",
       "      <th>y</th>\n",
       "      <th>state.division</th>\n",
       "      <th>state.name</th>\n",
       "      <th>state.region</th>\n",
       "    </tr>\n",
       "  </thead>\n",
       "  <tbody>\n",
       "    <tr>\n",
       "      <th>6</th>\n",
       "      <td>3100</td>\n",
       "      <td>5348</td>\n",
       "      <td>1.1</td>\n",
       "      <td>72.48</td>\n",
       "      <td>3.1</td>\n",
       "      <td>56.0</td>\n",
       "      <td>139</td>\n",
       "      <td>4862</td>\n",
       "      <td>CT</td>\n",
       "      <td>5009</td>\n",
       "      <td>-72.3573</td>\n",
       "      <td>41.5928</td>\n",
       "      <td>New England</td>\n",
       "      <td>Connecticut</td>\n",
       "      <td>Northeast</td>\n",
       "    </tr>\n",
       "    <tr>\n",
       "      <th>18</th>\n",
       "      <td>1058</td>\n",
       "      <td>3694</td>\n",
       "      <td>0.7</td>\n",
       "      <td>70.39</td>\n",
       "      <td>2.7</td>\n",
       "      <td>54.7</td>\n",
       "      <td>161</td>\n",
       "      <td>30920</td>\n",
       "      <td>ME</td>\n",
       "      <td>33215</td>\n",
       "      <td>-68.9801</td>\n",
       "      <td>45.6226</td>\n",
       "      <td>New England</td>\n",
       "      <td>Maine</td>\n",
       "      <td>Northeast</td>\n",
       "    </tr>\n",
       "    <tr>\n",
       "      <th>20</th>\n",
       "      <td>5814</td>\n",
       "      <td>4755</td>\n",
       "      <td>1.1</td>\n",
       "      <td>71.83</td>\n",
       "      <td>3.3</td>\n",
       "      <td>58.5</td>\n",
       "      <td>103</td>\n",
       "      <td>7826</td>\n",
       "      <td>MA</td>\n",
       "      <td>8257</td>\n",
       "      <td>-71.5800</td>\n",
       "      <td>42.3645</td>\n",
       "      <td>New England</td>\n",
       "      <td>Massachusetts</td>\n",
       "      <td>Northeast</td>\n",
       "    </tr>\n",
       "    <tr>\n",
       "      <th>28</th>\n",
       "      <td>812</td>\n",
       "      <td>4281</td>\n",
       "      <td>0.7</td>\n",
       "      <td>71.23</td>\n",
       "      <td>3.3</td>\n",
       "      <td>57.6</td>\n",
       "      <td>174</td>\n",
       "      <td>9027</td>\n",
       "      <td>NH</td>\n",
       "      <td>9304</td>\n",
       "      <td>-71.3924</td>\n",
       "      <td>43.3934</td>\n",
       "      <td>New England</td>\n",
       "      <td>New Hampshire</td>\n",
       "      <td>Northeast</td>\n",
       "    </tr>\n",
       "    <tr>\n",
       "      <th>29</th>\n",
       "      <td>7333</td>\n",
       "      <td>5237</td>\n",
       "      <td>1.1</td>\n",
       "      <td>70.93</td>\n",
       "      <td>5.2</td>\n",
       "      <td>52.5</td>\n",
       "      <td>115</td>\n",
       "      <td>7521</td>\n",
       "      <td>NJ</td>\n",
       "      <td>7836</td>\n",
       "      <td>-74.2336</td>\n",
       "      <td>39.9637</td>\n",
       "      <td>Middle Atlantic</td>\n",
       "      <td>New Jersey</td>\n",
       "      <td>Northeast</td>\n",
       "    </tr>\n",
       "    <tr>\n",
       "      <th>31</th>\n",
       "      <td>18076</td>\n",
       "      <td>4903</td>\n",
       "      <td>1.4</td>\n",
       "      <td>70.55</td>\n",
       "      <td>10.9</td>\n",
       "      <td>52.7</td>\n",
       "      <td>82</td>\n",
       "      <td>47831</td>\n",
       "      <td>NY</td>\n",
       "      <td>49576</td>\n",
       "      <td>-75.1449</td>\n",
       "      <td>43.1361</td>\n",
       "      <td>Middle Atlantic</td>\n",
       "      <td>New York</td>\n",
       "      <td>Northeast</td>\n",
       "    </tr>\n",
       "    <tr>\n",
       "      <th>37</th>\n",
       "      <td>11860</td>\n",
       "      <td>4449</td>\n",
       "      <td>1.0</td>\n",
       "      <td>70.43</td>\n",
       "      <td>6.1</td>\n",
       "      <td>50.2</td>\n",
       "      <td>126</td>\n",
       "      <td>44966</td>\n",
       "      <td>PA</td>\n",
       "      <td>45333</td>\n",
       "      <td>-77.4500</td>\n",
       "      <td>40.9069</td>\n",
       "      <td>Middle Atlantic</td>\n",
       "      <td>Pennsylvania</td>\n",
       "      <td>Northeast</td>\n",
       "    </tr>\n",
       "    <tr>\n",
       "      <th>38</th>\n",
       "      <td>931</td>\n",
       "      <td>4558</td>\n",
       "      <td>1.3</td>\n",
       "      <td>71.90</td>\n",
       "      <td>2.4</td>\n",
       "      <td>46.4</td>\n",
       "      <td>127</td>\n",
       "      <td>1049</td>\n",
       "      <td>RI</td>\n",
       "      <td>1214</td>\n",
       "      <td>-71.1244</td>\n",
       "      <td>41.5928</td>\n",
       "      <td>New England</td>\n",
       "      <td>Rhode Island</td>\n",
       "      <td>Northeast</td>\n",
       "    </tr>\n",
       "    <tr>\n",
       "      <th>44</th>\n",
       "      <td>472</td>\n",
       "      <td>3907</td>\n",
       "      <td>0.6</td>\n",
       "      <td>71.64</td>\n",
       "      <td>5.5</td>\n",
       "      <td>57.1</td>\n",
       "      <td>168</td>\n",
       "      <td>9267</td>\n",
       "      <td>VT</td>\n",
       "      <td>9609</td>\n",
       "      <td>-72.5450</td>\n",
       "      <td>44.2508</td>\n",
       "      <td>New England</td>\n",
       "      <td>Vermont</td>\n",
       "      <td>Northeast</td>\n",
       "    </tr>\n",
       "  </tbody>\n",
       "</table>\n",
       "</div>"
      ],
      "text/plain": [
       "    Population  Income  Illiteracy  Life.Exp  Murder  HS.Grad  Frost   Area  \\\n",
       "6         3100    5348         1.1     72.48     3.1     56.0    139   4862   \n",
       "18        1058    3694         0.7     70.39     2.7     54.7    161  30920   \n",
       "20        5814    4755         1.1     71.83     3.3     58.5    103   7826   \n",
       "28         812    4281         0.7     71.23     3.3     57.6    174   9027   \n",
       "29        7333    5237         1.1     70.93     5.2     52.5    115   7521   \n",
       "31       18076    4903         1.4     70.55    10.9     52.7     82  47831   \n",
       "37       11860    4449         1.0     70.43     6.1     50.2    126  44966   \n",
       "38         931    4558         1.3     71.90     2.4     46.4    127   1049   \n",
       "44         472    3907         0.6     71.64     5.5     57.1    168   9267   \n",
       "\n",
       "   state.abb  state.area        x        y   state.division     state.name  \\\n",
       "6         CT        5009 -72.3573  41.5928      New England    Connecticut   \n",
       "18        ME       33215 -68.9801  45.6226      New England          Maine   \n",
       "20        MA        8257 -71.5800  42.3645      New England  Massachusetts   \n",
       "28        NH        9304 -71.3924  43.3934      New England  New Hampshire   \n",
       "29        NJ        7836 -74.2336  39.9637  Middle Atlantic     New Jersey   \n",
       "31        NY       49576 -75.1449  43.1361  Middle Atlantic       New York   \n",
       "37        PA       45333 -77.4500  40.9069  Middle Atlantic   Pennsylvania   \n",
       "38        RI        1214 -71.1244  41.5928      New England   Rhode Island   \n",
       "44        VT        9609 -72.5450  44.2508      New England        Vermont   \n",
       "\n",
       "   state.region  \n",
       "6     Northeast  \n",
       "18    Northeast  \n",
       "20    Northeast  \n",
       "28    Northeast  \n",
       "29    Northeast  \n",
       "31    Northeast  \n",
       "37    Northeast  \n",
       "38    Northeast  \n",
       "44    Northeast  "
      ]
     },
     "execution_count": 238,
     "metadata": {},
     "output_type": "execute_result"
    }
   ],
   "source": [
    "Northeast"
   ]
  },
  {
   "cell_type": "code",
   "execution_count": 239,
   "metadata": {},
   "outputs": [
    {
     "data": {
      "text/html": [
       "<div>\n",
       "<style scoped>\n",
       "    .dataframe tbody tr th:only-of-type {\n",
       "        vertical-align: middle;\n",
       "    }\n",
       "\n",
       "    .dataframe tbody tr th {\n",
       "        vertical-align: top;\n",
       "    }\n",
       "\n",
       "    .dataframe thead th {\n",
       "        text-align: right;\n",
       "    }\n",
       "</style>\n",
       "<table border=\"1\" class=\"dataframe\">\n",
       "  <thead>\n",
       "    <tr style=\"text-align: right;\">\n",
       "      <th></th>\n",
       "      <th>count</th>\n",
       "      <th>mean</th>\n",
       "      <th>std</th>\n",
       "      <th>min</th>\n",
       "      <th>25%</th>\n",
       "      <th>50%</th>\n",
       "      <th>75%</th>\n",
       "      <th>max</th>\n",
       "    </tr>\n",
       "  </thead>\n",
       "  <tbody>\n",
       "    <tr>\n",
       "      <th>Population</th>\n",
       "      <td>9.0</td>\n",
       "      <td>5495.111111</td>\n",
       "      <td>6079.565146</td>\n",
       "      <td>472.0000</td>\n",
       "      <td>931.0000</td>\n",
       "      <td>3100.0000</td>\n",
       "      <td>7333.0000</td>\n",
       "      <td>18076.0000</td>\n",
       "    </tr>\n",
       "    <tr>\n",
       "      <th>Income</th>\n",
       "      <td>9.0</td>\n",
       "      <td>4570.222222</td>\n",
       "      <td>559.077092</td>\n",
       "      <td>3694.0000</td>\n",
       "      <td>4281.0000</td>\n",
       "      <td>4558.0000</td>\n",
       "      <td>4903.0000</td>\n",
       "      <td>5348.0000</td>\n",
       "    </tr>\n",
       "    <tr>\n",
       "      <th>Illiteracy</th>\n",
       "      <td>9.0</td>\n",
       "      <td>1.000000</td>\n",
       "      <td>0.278388</td>\n",
       "      <td>0.6000</td>\n",
       "      <td>0.7000</td>\n",
       "      <td>1.1000</td>\n",
       "      <td>1.1000</td>\n",
       "      <td>1.4000</td>\n",
       "    </tr>\n",
       "    <tr>\n",
       "      <th>Life.Exp</th>\n",
       "      <td>9.0</td>\n",
       "      <td>71.264444</td>\n",
       "      <td>0.743877</td>\n",
       "      <td>70.3900</td>\n",
       "      <td>70.5500</td>\n",
       "      <td>71.2300</td>\n",
       "      <td>71.8300</td>\n",
       "      <td>72.4800</td>\n",
       "    </tr>\n",
       "    <tr>\n",
       "      <th>Murder</th>\n",
       "      <td>9.0</td>\n",
       "      <td>4.722222</td>\n",
       "      <td>2.670570</td>\n",
       "      <td>2.4000</td>\n",
       "      <td>3.1000</td>\n",
       "      <td>3.3000</td>\n",
       "      <td>5.5000</td>\n",
       "      <td>10.9000</td>\n",
       "    </tr>\n",
       "    <tr>\n",
       "      <th>HS.Grad</th>\n",
       "      <td>9.0</td>\n",
       "      <td>53.966667</td>\n",
       "      <td>3.928104</td>\n",
       "      <td>46.4000</td>\n",
       "      <td>52.5000</td>\n",
       "      <td>54.7000</td>\n",
       "      <td>57.1000</td>\n",
       "      <td>58.5000</td>\n",
       "    </tr>\n",
       "    <tr>\n",
       "      <th>Frost</th>\n",
       "      <td>9.0</td>\n",
       "      <td>132.777778</td>\n",
       "      <td>30.894084</td>\n",
       "      <td>82.0000</td>\n",
       "      <td>115.0000</td>\n",
       "      <td>127.0000</td>\n",
       "      <td>161.0000</td>\n",
       "      <td>174.0000</td>\n",
       "    </tr>\n",
       "    <tr>\n",
       "      <th>Area</th>\n",
       "      <td>9.0</td>\n",
       "      <td>18141.000000</td>\n",
       "      <td>18075.689364</td>\n",
       "      <td>1049.0000</td>\n",
       "      <td>7521.0000</td>\n",
       "      <td>9027.0000</td>\n",
       "      <td>30920.0000</td>\n",
       "      <td>47831.0000</td>\n",
       "    </tr>\n",
       "    <tr>\n",
       "      <th>state.area</th>\n",
       "      <td>9.0</td>\n",
       "      <td>18817.000000</td>\n",
       "      <td>18589.054602</td>\n",
       "      <td>1214.0000</td>\n",
       "      <td>7836.0000</td>\n",
       "      <td>9304.0000</td>\n",
       "      <td>33215.0000</td>\n",
       "      <td>49576.0000</td>\n",
       "    </tr>\n",
       "    <tr>\n",
       "      <th>x</th>\n",
       "      <td>9.0</td>\n",
       "      <td>-72.756411</td>\n",
       "      <td>2.507219</td>\n",
       "      <td>-77.4500</td>\n",
       "      <td>-74.2336</td>\n",
       "      <td>-72.3573</td>\n",
       "      <td>-71.3924</td>\n",
       "      <td>-68.9801</td>\n",
       "    </tr>\n",
       "    <tr>\n",
       "      <th>y</th>\n",
       "      <td>9.0</td>\n",
       "      <td>42.535956</td>\n",
       "      <td>1.755073</td>\n",
       "      <td>39.9637</td>\n",
       "      <td>41.5928</td>\n",
       "      <td>42.3645</td>\n",
       "      <td>43.3934</td>\n",
       "      <td>45.6226</td>\n",
       "    </tr>\n",
       "  </tbody>\n",
       "</table>\n",
       "</div>"
      ],
      "text/plain": [
       "            count          mean           std        min        25%  \\\n",
       "Population    9.0   5495.111111   6079.565146   472.0000   931.0000   \n",
       "Income        9.0   4570.222222    559.077092  3694.0000  4281.0000   \n",
       "Illiteracy    9.0      1.000000      0.278388     0.6000     0.7000   \n",
       "Life.Exp      9.0     71.264444      0.743877    70.3900    70.5500   \n",
       "Murder        9.0      4.722222      2.670570     2.4000     3.1000   \n",
       "HS.Grad       9.0     53.966667      3.928104    46.4000    52.5000   \n",
       "Frost         9.0    132.777778     30.894084    82.0000   115.0000   \n",
       "Area          9.0  18141.000000  18075.689364  1049.0000  7521.0000   \n",
       "state.area    9.0  18817.000000  18589.054602  1214.0000  7836.0000   \n",
       "x             9.0    -72.756411      2.507219   -77.4500   -74.2336   \n",
       "y             9.0     42.535956      1.755073    39.9637    41.5928   \n",
       "\n",
       "                  50%         75%         max  \n",
       "Population  3100.0000   7333.0000  18076.0000  \n",
       "Income      4558.0000   4903.0000   5348.0000  \n",
       "Illiteracy     1.1000      1.1000      1.4000  \n",
       "Life.Exp      71.2300     71.8300     72.4800  \n",
       "Murder         3.3000      5.5000     10.9000  \n",
       "HS.Grad       54.7000     57.1000     58.5000  \n",
       "Frost        127.0000    161.0000    174.0000  \n",
       "Area        9027.0000  30920.0000  47831.0000  \n",
       "state.area  9304.0000  33215.0000  49576.0000  \n",
       "x            -72.3573    -71.3924    -68.9801  \n",
       "y             42.3645     43.3934     45.6226  "
      ]
     },
     "execution_count": 239,
     "metadata": {},
     "output_type": "execute_result"
    }
   ],
   "source": [
    "Northeast.describe().transpose()"
   ]
  },
  {
   "cell_type": "code",
   "execution_count": 240,
   "metadata": {},
   "outputs": [
    {
     "data": {
      "text/html": [
       "<div>\n",
       "<style scoped>\n",
       "    .dataframe tbody tr th:only-of-type {\n",
       "        vertical-align: middle;\n",
       "    }\n",
       "\n",
       "    .dataframe tbody tr th {\n",
       "        vertical-align: top;\n",
       "    }\n",
       "\n",
       "    .dataframe thead th {\n",
       "        text-align: right;\n",
       "    }\n",
       "</style>\n",
       "<table border=\"1\" class=\"dataframe\">\n",
       "  <thead>\n",
       "    <tr style=\"text-align: right;\">\n",
       "      <th></th>\n",
       "      <th>Population</th>\n",
       "      <th>Income</th>\n",
       "      <th>Illiteracy</th>\n",
       "      <th>Life.Exp</th>\n",
       "      <th>Murder</th>\n",
       "      <th>HS.Grad</th>\n",
       "      <th>Frost</th>\n",
       "      <th>Area</th>\n",
       "      <th>state.abb</th>\n",
       "      <th>state.area</th>\n",
       "      <th>x</th>\n",
       "      <th>y</th>\n",
       "      <th>state.division</th>\n",
       "      <th>state.name</th>\n",
       "      <th>state.region</th>\n",
       "    </tr>\n",
       "  </thead>\n",
       "  <tbody>\n",
       "    <tr>\n",
       "      <th>31</th>\n",
       "      <td>18076</td>\n",
       "      <td>4903</td>\n",
       "      <td>1.4</td>\n",
       "      <td>70.55</td>\n",
       "      <td>10.9</td>\n",
       "      <td>52.7</td>\n",
       "      <td>82</td>\n",
       "      <td>47831</td>\n",
       "      <td>NY</td>\n",
       "      <td>49576</td>\n",
       "      <td>-75.1449</td>\n",
       "      <td>43.1361</td>\n",
       "      <td>Middle Atlantic</td>\n",
       "      <td>New York</td>\n",
       "      <td>Northeast</td>\n",
       "    </tr>\n",
       "  </tbody>\n",
       "</table>\n",
       "</div>"
      ],
      "text/plain": [
       "    Population  Income  Illiteracy  Life.Exp  Murder  HS.Grad  Frost   Area  \\\n",
       "31       18076    4903         1.4     70.55    10.9     52.7     82  47831   \n",
       "\n",
       "   state.abb  state.area        x        y   state.division state.name  \\\n",
       "31        NY       49576 -75.1449  43.1361  Middle Atlantic   New York   \n",
       "\n",
       "   state.region  \n",
       "31    Northeast  "
      ]
     },
     "execution_count": 240,
     "metadata": {},
     "output_type": "execute_result"
    }
   ],
   "source": [
    "Northeast[Northeast[\"Murder\"] == Northeast[\"Murder\"].max()]"
   ]
  },
  {
   "cell_type": "markdown",
   "metadata": {},
   "source": [
    "# Predicting Life Expectancy - An Initial Model\n",
    "We would like to build a model to predict life expectancy by state using the state statistics we have in our dataset.\n",
    "\n",
    "We build our initial model with all potential variables included (Population, Income, Illiteracy, Murder, HS.Grad, Frost, and Area)"
   ]
  },
  {
   "cell_type": "code",
   "execution_count": 241,
   "metadata": {},
   "outputs": [],
   "source": [
    "LESubset = statedata[['Population', 'Income', 'Illiteracy', 'Murder', 'HS.Grad', 'Frost', 'Area', 'Life.Exp']]"
   ]
  },
  {
   "cell_type": "code",
   "execution_count": 242,
   "metadata": {},
   "outputs": [
    {
     "data": {
      "text/html": [
       "<div>\n",
       "<style scoped>\n",
       "    .dataframe tbody tr th:only-of-type {\n",
       "        vertical-align: middle;\n",
       "    }\n",
       "\n",
       "    .dataframe tbody tr th {\n",
       "        vertical-align: top;\n",
       "    }\n",
       "\n",
       "    .dataframe thead th {\n",
       "        text-align: right;\n",
       "    }\n",
       "</style>\n",
       "<table border=\"1\" class=\"dataframe\">\n",
       "  <thead>\n",
       "    <tr style=\"text-align: right;\">\n",
       "      <th></th>\n",
       "      <th>Population</th>\n",
       "      <th>Income</th>\n",
       "      <th>Illiteracy</th>\n",
       "      <th>Murder</th>\n",
       "      <th>HS.Grad</th>\n",
       "      <th>Frost</th>\n",
       "      <th>Area</th>\n",
       "      <th>Life.Exp</th>\n",
       "    </tr>\n",
       "  </thead>\n",
       "  <tbody>\n",
       "    <tr>\n",
       "      <th>0</th>\n",
       "      <td>3615</td>\n",
       "      <td>3624</td>\n",
       "      <td>2.1</td>\n",
       "      <td>15.1</td>\n",
       "      <td>41.3</td>\n",
       "      <td>20</td>\n",
       "      <td>50708</td>\n",
       "      <td>69.05</td>\n",
       "    </tr>\n",
       "    <tr>\n",
       "      <th>1</th>\n",
       "      <td>365</td>\n",
       "      <td>6315</td>\n",
       "      <td>1.5</td>\n",
       "      <td>11.3</td>\n",
       "      <td>66.7</td>\n",
       "      <td>152</td>\n",
       "      <td>566432</td>\n",
       "      <td>69.31</td>\n",
       "    </tr>\n",
       "    <tr>\n",
       "      <th>2</th>\n",
       "      <td>2212</td>\n",
       "      <td>4530</td>\n",
       "      <td>1.8</td>\n",
       "      <td>7.8</td>\n",
       "      <td>58.1</td>\n",
       "      <td>15</td>\n",
       "      <td>113417</td>\n",
       "      <td>70.55</td>\n",
       "    </tr>\n",
       "    <tr>\n",
       "      <th>3</th>\n",
       "      <td>2110</td>\n",
       "      <td>3378</td>\n",
       "      <td>1.9</td>\n",
       "      <td>10.1</td>\n",
       "      <td>39.9</td>\n",
       "      <td>65</td>\n",
       "      <td>51945</td>\n",
       "      <td>70.66</td>\n",
       "    </tr>\n",
       "    <tr>\n",
       "      <th>4</th>\n",
       "      <td>21198</td>\n",
       "      <td>5114</td>\n",
       "      <td>1.1</td>\n",
       "      <td>10.3</td>\n",
       "      <td>62.6</td>\n",
       "      <td>20</td>\n",
       "      <td>156361</td>\n",
       "      <td>71.71</td>\n",
       "    </tr>\n",
       "  </tbody>\n",
       "</table>\n",
       "</div>"
      ],
      "text/plain": [
       "   Population  Income  Illiteracy  Murder  HS.Grad  Frost    Area  Life.Exp\n",
       "0        3615    3624         2.1    15.1     41.3     20   50708     69.05\n",
       "1         365    6315         1.5    11.3     66.7    152  566432     69.31\n",
       "2        2212    4530         1.8     7.8     58.1     15  113417     70.55\n",
       "3        2110    3378         1.9    10.1     39.9     65   51945     70.66\n",
       "4       21198    5114         1.1    10.3     62.6     20  156361     71.71"
      ]
     },
     "execution_count": 242,
     "metadata": {},
     "output_type": "execute_result"
    }
   ],
   "source": [
    "LESubset.head()"
   ]
  },
  {
   "cell_type": "code",
   "execution_count": 243,
   "metadata": {},
   "outputs": [],
   "source": [
    "X = LESubset.iloc[:, :-1].values\n",
    "y = LESubset.iloc[:, -1].values"
   ]
  },
  {
   "cell_type": "code",
   "execution_count": 244,
   "metadata": {},
   "outputs": [
    {
     "data": {
      "text/plain": [
       "LinearRegression(copy_X=True, fit_intercept=True, n_jobs=None, normalize=False)"
      ]
     },
     "execution_count": 244,
     "metadata": {},
     "output_type": "execute_result"
    }
   ],
   "source": [
    "LETrend = LinearRegression()\n",
    "LETrend.fit(X, y)"
   ]
  },
  {
   "cell_type": "code",
   "execution_count": 245,
   "metadata": {},
   "outputs": [
    {
     "data": {
      "text/plain": [
       "0.736156268908904"
      ]
     },
     "execution_count": 245,
     "metadata": {},
     "output_type": "execute_result"
    }
   ],
   "source": [
    "LETrend.score(X,y)"
   ]
  },
  {
   "cell_type": "code",
   "execution_count": 246,
   "metadata": {},
   "outputs": [
    {
     "name": "stdout",
     "output_type": "stream",
     "text": [
      "Intercept:  70.94322411112941\n"
     ]
    }
   ],
   "source": [
    "print('Intercept: ', LETrend.intercept_)"
   ]
  },
  {
   "cell_type": "markdown",
   "metadata": {},
   "source": [
    "What is the coefficient for \"Income\" in your linear regression model? To find this we call the coefficient for all columns. "
   ]
  },
  {
   "cell_type": "code",
   "execution_count": 247,
   "metadata": {},
   "outputs": [],
   "source": [
    "cols = ['Population', 'Income', 'Illiteracy', 'Murder', 'HS.Grad', 'Frost', 'Area']"
   ]
  },
  {
   "cell_type": "code",
   "execution_count": 248,
   "metadata": {},
   "outputs": [
    {
     "data": {
      "text/plain": [
       "[('Population', 5.180036383483333e-05),\n",
       " ('Income', -2.1804237825283393e-05),\n",
       " ('Illiteracy', 0.0338203213552914),\n",
       " ('Murder', -0.30112317045182935),\n",
       " ('HS.Grad', 0.04892947888171683),\n",
       " ('Frost', -0.00573500110355544),\n",
       " ('Area', -7.383166144891658e-08)]"
      ]
     },
     "execution_count": 248,
     "metadata": {},
     "output_type": "execute_result"
    }
   ],
   "source": [
    "list(zip(cols,LETrend.coef_))"
   ]
  },
  {
   "cell_type": "markdown",
   "metadata": {},
   "source": [
    "What is the interpretation of the coefficient x? x = -2.1804237825283393e-05\n",
    "{For a one unit increase in income, predicted life expectancy decreases by |x|}"
   ]
  },
  {
   "cell_type": "markdown",
   "metadata": {},
   "source": [
    "To verify this we plot a graph of life expectancy vs. income.\n",
    "\n",
    "Visually observing the plot, Life expectancy is somewhat positively correlated with income."
   ]
  },
  {
   "cell_type": "code",
   "execution_count": 249,
   "metadata": {},
   "outputs": [
    {
     "data": {
      "text/plain": [
       "<matplotlib.axes._subplots.AxesSubplot at 0x22476cfcc18>"
      ]
     },
     "execution_count": 249,
     "metadata": {},
     "output_type": "execute_result"
    },
    {
     "data": {
      "image/png": "[encoded data removed]",
      "text/plain": [
       "<Figure size 432x288 with 1 Axes>"
      ]
     },
     "metadata": {
      "needs_background": "light"
     },
     "output_type": "display_data"
    }
   ],
   "source": [
    "sns.regplot(x='Life.Exp', y='Income', data = LESubset)"
   ]
  },
  {
   "cell_type": "markdown",
   "metadata": {},
   "source": [
    "The model we built does not display the relationship we saw from the plot of life expectancy vs. income. This is due to Multicollinearity."
   ]
  },
  {
   "cell_type": "code",
   "execution_count": 250,
   "metadata": {},
   "outputs": [
    {
     "data": {
      "text/plain": [
       "<matplotlib.axes._subplots.AxesSubplot at 0x2247474f128>"
      ]
     },
     "execution_count": 250,
     "metadata": {},
     "output_type": "execute_result"
    },
    {
     "data": {
      "image/png": "[encoded data removed]",
      "text/plain": [
       "<Figure size 864x864 with 2 Axes>"
      ]
     },
     "metadata": {
      "needs_background": "light"
     },
     "output_type": "display_data"
    }
   ],
   "source": [
    "cmap = sns.diverging_palette(230, 20, as_cmap = True)\n",
    "plt.subplots(figsize=(12,12))\n",
    "sns.heatmap(LESubset.corr(), annot = True, cmap = cmap, square = True)"
   ]
  },
  {
   "cell_type": "code",
   "execution_count": 251,
   "metadata": {},
   "outputs": [],
   "source": [
    "est = sm.OLS(y, X)"
   ]
  },
  {
   "cell_type": "code",
   "execution_count": 252,
   "metadata": {},
   "outputs": [],
   "source": [
    "est2 = est.fit()"
   ]
  },
  {
   "cell_type": "code",
   "execution_count": 253,
   "metadata": {},
   "outputs": [
    {
     "name": "stdout",
     "output_type": "stream",
     "text": [
      "                                 OLS Regression Results                                \n",
      "=======================================================================================\n",
      "Dep. Variable:                      y   R-squared (uncentered):                   0.996\n",
      "Model:                            OLS   Adj. R-squared (uncentered):              0.996\n",
      "Method:                 Least Squares   F-statistic:                              1641.\n",
      "Date:                Sun, 21 Mar 2021   Prob (F-statistic):                    4.78e-50\n",
      "Time:                        01:11:32   Log-Likelihood:                         -144.21\n",
      "No. Observations:                  50   AIC:                                      302.4\n",
      "Df Residuals:                      43   BIC:                                      315.8\n",
      "Df Model:                           7                                                  \n",
      "Covariance Type:            nonrobust                                                  \n",
      "==============================================================================\n",
      "                 coef    std err          t      P>|t|      [0.025      0.975]\n",
      "------------------------------------------------------------------------------\n",
      "x1             0.0001      0.000      0.652      0.518      -0.000       0.000\n",
      "x2             0.0035      0.001      2.475      0.017       0.001       0.006\n",
      "x3            10.4142      1.643      6.337      0.000       7.100      13.728\n",
      "x4             0.1796      0.283      0.635      0.529      -0.390       0.750\n",
      "x5             0.6984      0.106      6.567      0.000       0.484       0.913\n",
      "x6             0.0639      0.017      3.873      0.000       0.031       0.097\n",
      "x7         -4.041e-05    8.4e-06     -4.813      0.000   -5.73e-05   -2.35e-05\n",
      "==============================================================================\n",
      "Omnibus:                        1.979   Durbin-Watson:                   1.540\n",
      "Prob(Omnibus):                  0.372   Jarque-Bera (JB):                1.682\n",
      "Skew:                          -0.309   Prob(JB):                        0.431\n",
      "Kurtosis:                       2.348   Cond. No.                     2.77e+05\n",
      "==============================================================================\n",
      "\n",
      "Warnings:\n",
      "[1] Standard Errors assume that the covariance matrix of the errors is correctly specified.\n",
      "[2] The condition number is large, 2.77e+05. This might indicate that there are\n",
      "strong multicollinearity or other numerical problems.\n"
     ]
    }
   ],
   "source": [
    "print(est2.summary())"
   ]
  },
  {
   "cell_type": "markdown",
   "metadata": {},
   "source": [
    "# Refining the Model and Analyzing Predictions\n",
    "Following the principle of simplicity: that is, a model with fewer variables is preferable to a model with many unnnecessary variables. We experiment with removing independent variables from the original model. we use the significance of the coefficients to decide which variables to remove (remove the one with the largest \"p-value\" first, or the one with the \"t value\" closest to zero), and to remove them one at a time (this is called \"backwards variable selection\"). This is important due to multicollinearity issues - removing one insignificant variable may make another previously insignificant variable become significant."
   ]
  },
  {
   "cell_type": "code",
   "execution_count": 254,
   "metadata": {},
   "outputs": [],
   "source": [
    "LESubset1 = statedata[['Population', 'Income', 'Illiteracy', 'Murder', 'HS.Grad', 'Frost', 'Life.Exp']]"
   ]
  },
  {
   "cell_type": "code",
   "execution_count": 255,
   "metadata": {},
   "outputs": [],
   "source": [
    "X = LESubset1.iloc[:, :-1].values\n",
    "y = LESubset1.iloc[:, -1].values"
   ]
  },
  {
   "cell_type": "code",
   "execution_count": 256,
   "metadata": {},
   "outputs": [
    {
     "data": {
      "text/plain": [
       "LinearRegression(copy_X=True, fit_intercept=True, n_jobs=None, normalize=False)"
      ]
     },
     "execution_count": 256,
     "metadata": {},
     "output_type": "execute_result"
    }
   ],
   "source": [
    "LETrend1 = LinearRegression()\n",
    "LETrend1.fit(X, y)"
   ]
  },
  {
   "cell_type": "code",
   "execution_count": 257,
   "metadata": {},
   "outputs": [
    {
     "data": {
      "text/plain": [
       "0.736143963220925"
      ]
     },
     "execution_count": 257,
     "metadata": {},
     "output_type": "execute_result"
    }
   ],
   "source": [
    "LETrend1.score(X,y)"
   ]
  },
  {
   "cell_type": "code",
   "execution_count": 258,
   "metadata": {},
   "outputs": [
    {
     "name": "stdout",
     "output_type": "stream",
     "text": [
      "Intercept:  70.98931851760156\n"
     ]
    }
   ],
   "source": [
    "print('Intercept: ', LETrend1.intercept_)"
   ]
  },
  {
   "cell_type": "code",
   "execution_count": 259,
   "metadata": {},
   "outputs": [
    {
     "name": "stdout",
     "output_type": "stream",
     "text": [
      "Coefficients:  [ 5.18826954e-05 -2.44403026e-05  2.84588124e-02 -3.01823139e-01\n",
      "  4.84723220e-02 -5.77575821e-03]\n"
     ]
    }
   ],
   "source": [
    "print('Coefficients: ', LETrend1.coef_)"
   ]
  },
  {
   "cell_type": "code",
   "execution_count": 260,
   "metadata": {},
   "outputs": [],
   "source": [
    "est = sm.OLS(y, X)"
   ]
  },
  {
   "cell_type": "code",
   "execution_count": 261,
   "metadata": {},
   "outputs": [],
   "source": [
    "est2 = est.fit()"
   ]
  },
  {
   "cell_type": "code",
   "execution_count": 262,
   "metadata": {},
   "outputs": [
    {
     "name": "stdout",
     "output_type": "stream",
     "text": [
      "                                 OLS Regression Results                                \n",
      "=======================================================================================\n",
      "Dep. Variable:                      y   R-squared (uncentered):                   0.994\n",
      "Model:                            OLS   Adj. R-squared (uncentered):              0.993\n",
      "Method:                 Least Squares   F-statistic:                              1271.\n",
      "Date:                Sun, 21 Mar 2021   Prob (F-statistic):                    1.34e-47\n",
      "Time:                        01:11:39   Log-Likelihood:                         -154.99\n",
      "No. Observations:                  50   AIC:                                      322.0\n",
      "Df Residuals:                      44   BIC:                                      333.4\n",
      "Df Model:                           6                                                  \n",
      "Covariance Type:            nonrobust                                                  \n",
      "==============================================================================\n",
      "                 coef    std err          t      P>|t|      [0.025      0.975]\n",
      "------------------------------------------------------------------------------\n",
      "x1             0.0002      0.000      1.017      0.315      -0.000       0.001\n",
      "x2             0.0033      0.002      1.864      0.069      -0.000       0.007\n",
      "x3            11.5879      1.993      5.815      0.000       7.572      15.604\n",
      "x4            -0.1494      0.336     -0.444      0.659      -0.827       0.528\n",
      "x5             0.6685      0.130      5.135      0.000       0.406       0.931\n",
      "x6             0.0677      0.020      3.351      0.002       0.027       0.108\n",
      "==============================================================================\n",
      "Omnibus:                       26.424   Durbin-Watson:                   1.816\n",
      "Prob(Omnibus):                  0.000   Jarque-Bera (JB):               55.703\n",
      "Skew:                          -1.509   Prob(JB):                     8.02e-13\n",
      "Kurtosis:                       7.198   Cond. No.                     1.76e+04\n",
      "==============================================================================\n",
      "\n",
      "Warnings:\n",
      "[1] Standard Errors assume that the covariance matrix of the errors is correctly specified.\n",
      "[2] The condition number is large, 1.76e+04. This might indicate that there are\n",
      "strong multicollinearity or other numerical problems.\n"
     ]
    }
   ],
   "source": [
    "print(est2.summary())"
   ]
  },
  {
   "cell_type": "code",
   "execution_count": 263,
   "metadata": {},
   "outputs": [],
   "source": [
    "LESubset2 = statedata[['Population', 'Income', 'Murder', 'HS.Grad', 'Frost', 'Life.Exp']]"
   ]
  },
  {
   "cell_type": "code",
   "execution_count": 264,
   "metadata": {},
   "outputs": [],
   "source": [
    "X = LESubset2.iloc[:, :-1].values\n",
    "y = LESubset2.iloc[:, -1].values"
   ]
  },
  {
   "cell_type": "code",
   "execution_count": 265,
   "metadata": {},
   "outputs": [
    {
     "data": {
      "text/plain": [
       "LinearRegression(copy_X=True, fit_intercept=True, n_jobs=None, normalize=False)"
      ]
     },
     "execution_count": 265,
     "metadata": {},
     "output_type": "execute_result"
    }
   ],
   "source": [
    "LETrend2 = LinearRegression()\n",
    "LETrend2.fit(X, y)"
   ]
  },
  {
   "cell_type": "code",
   "execution_count": 266,
   "metadata": {},
   "outputs": [],
   "source": [
    "est = sm.OLS(y, X)"
   ]
  },
  {
   "cell_type": "code",
   "execution_count": 267,
   "metadata": {},
   "outputs": [],
   "source": [
    "est2 = est.fit()"
   ]
  },
  {
   "cell_type": "code",
   "execution_count": 268,
   "metadata": {},
   "outputs": [
    {
     "name": "stdout",
     "output_type": "stream",
     "text": [
      "                                 OLS Regression Results                                \n",
      "=======================================================================================\n",
      "Dep. Variable:                      y   R-squared (uncentered):                   0.990\n",
      "Model:                            OLS   Adj. R-squared (uncentered):              0.989\n",
      "Method:                 Least Squares   F-statistic:                              878.0\n",
      "Date:                Sun, 21 Mar 2021   Prob (F-statistic):                    1.19e-43\n",
      "Time:                        01:11:43   Log-Likelihood:                         -169.24\n",
      "No. Observations:                  50   AIC:                                      348.5\n",
      "Df Residuals:                      45   BIC:                                      358.0\n",
      "Df Model:                           5                                                  \n",
      "Covariance Type:            nonrobust                                                  \n",
      "==============================================================================\n",
      "                 coef    std err          t      P>|t|      [0.025      0.975]\n",
      "------------------------------------------------------------------------------\n",
      "x1            -0.0002      0.000     -0.609      0.546      -0.001       0.000\n",
      "x2             0.0056      0.002      2.492      0.016       0.001       0.010\n",
      "x3             1.2831      0.301      4.263      0.000       0.677       1.889\n",
      "x4             0.6347      0.171      3.711      0.001       0.290       0.979\n",
      "x5             0.0280      0.025      1.118      0.270      -0.022       0.078\n",
      "==============================================================================\n",
      "Omnibus:                       26.797   Durbin-Watson:                   1.848\n",
      "Prob(Omnibus):                  0.000   Jarque-Bera (JB):               54.843\n",
      "Skew:                          -1.557   Prob(JB):                     1.23e-12\n",
      "Kurtosis:                       7.078   Cond. No.                     2.00e+03\n",
      "==============================================================================\n",
      "\n",
      "Warnings:\n",
      "[1] Standard Errors assume that the covariance matrix of the errors is correctly specified.\n",
      "[2] The condition number is large,  2e+03. This might indicate that there are\n",
      "strong multicollinearity or other numerical problems.\n"
     ]
    }
   ],
   "source": [
    "print(est2.summary())"
   ]
  },
  {
   "cell_type": "markdown",
   "metadata": {},
   "source": [
    "We try to find a good model with only 4 independent variables, instead of the original 7, with variables Population, Murder, Frost, HS.Grad."
   ]
  },
  {
   "cell_type": "code",
   "execution_count": 269,
   "metadata": {},
   "outputs": [],
   "source": [
    "cols = ['Population', 'Murder', 'Frost', 'HS.Grad']"
   ]
  },
  {
   "cell_type": "code",
   "execution_count": 270,
   "metadata": {},
   "outputs": [],
   "source": [
    "LESubset3 = statedata[['Population', 'Murder', 'Frost','HS.Grad', 'Life.Exp']]"
   ]
  },
  {
   "cell_type": "code",
   "execution_count": 271,
   "metadata": {},
   "outputs": [],
   "source": [
    "X = LESubset3.iloc[:, :-1].values\n",
    "y = LESubset3.iloc[:, -1].values"
   ]
  },
  {
   "cell_type": "code",
   "execution_count": 272,
   "metadata": {},
   "outputs": [
    {
     "data": {
      "text/plain": [
       "LinearRegression(copy_X=True, fit_intercept=True, n_jobs=None, normalize=False)"
      ]
     },
     "execution_count": 272,
     "metadata": {},
     "output_type": "execute_result"
    }
   ],
   "source": [
    "LETrend3 = LinearRegression()\n",
    "LETrend3.fit(X, y)"
   ]
  },
  {
   "cell_type": "code",
   "execution_count": 273,
   "metadata": {},
   "outputs": [],
   "source": [
    "est = sm.OLS(y, X)"
   ]
  },
  {
   "cell_type": "code",
   "execution_count": 274,
   "metadata": {},
   "outputs": [],
   "source": [
    "est2 = est.fit()"
   ]
  },
  {
   "cell_type": "code",
   "execution_count": 275,
   "metadata": {},
   "outputs": [
    {
     "name": "stdout",
     "output_type": "stream",
     "text": [
      "                                 OLS Regression Results                                \n",
      "=======================================================================================\n",
      "Dep. Variable:                      y   R-squared (uncentered):                   0.988\n",
      "Model:                            OLS   Adj. R-squared (uncentered):              0.987\n",
      "Method:                 Least Squares   F-statistic:                              984.5\n",
      "Date:                Sun, 21 Mar 2021   Prob (F-statistic):                    6.48e-44\n",
      "Time:                        01:11:49   Log-Likelihood:                         -172.47\n",
      "No. Observations:                  50   AIC:                                      352.9\n",
      "Df Residuals:                      46   BIC:                                      360.6\n",
      "Df Model:                           4                                                  \n",
      "Covariance Type:            nonrobust                                                  \n",
      "==============================================================================\n",
      "                 coef    std err          t      P>|t|      [0.025      0.975]\n",
      "------------------------------------------------------------------------------\n",
      "x1          5.925e-05      0.000      0.214      0.832      -0.000       0.001\n",
      "x2             1.5408      0.298      5.167      0.000       0.941       2.141\n",
      "x3             0.0413      0.026      1.602      0.116      -0.011       0.093\n",
      "x4             1.0193      0.078     13.122      0.000       0.863       1.176\n",
      "==============================================================================\n",
      "Omnibus:                       13.422   Durbin-Watson:                   1.744\n",
      "Prob(Omnibus):                  0.001   Jarque-Bera (JB):               15.488\n",
      "Skew:                          -1.009   Prob(JB):                     0.000433\n",
      "Kurtosis:                       4.833   Cond. No.                     1.65e+03\n",
      "==============================================================================\n",
      "\n",
      "Warnings:\n",
      "[1] Standard Errors assume that the covariance matrix of the errors is correctly specified.\n",
      "[2] The condition number is large, 1.65e+03. This might indicate that there are\n",
      "strong multicollinearity or other numerical problems.\n"
     ]
    }
   ],
   "source": [
    "print(est2.summary())"
   ]
  },
  {
   "cell_type": "markdown",
   "metadata": {},
   "source": [
    "# Using the simplified 4 variable model that we created, we'll now take a look at how our predictions compare to the actual values.\n",
    "\n",
    "\n",
    "\n",
    "Take a look at the vector of predictions by using the predict function (since we are just looking at predictions on the training set, you don't need to pass a \"newdata\" argument to the predict function)."
   ]
  },
  {
   "cell_type": "code",
   "execution_count": 276,
   "metadata": {},
   "outputs": [],
   "source": [
    "PredTest = LinearRegression()\n",
    "PredTest = LETrend3.predict(X)"
   ]
  },
  {
   "cell_type": "code",
   "execution_count": 277,
   "metadata": {},
   "outputs": [
    {
     "data": {
      "text/plain": [
       "array([68.48111866, 69.85740399, 71.41415671, 69.57373881, 71.79564599,\n",
       "       71.10354184, 72.03458972, 71.12646884, 70.61539495, 68.63694227,\n",
       "       72.09316854, 71.49989286, 70.1924416 , 70.90158526, 72.39652876,\n",
       "       71.90351963, 69.24417933, 69.15044846, 71.86095411, 70.51851996,\n",
       "       72.44105391, 69.8689336 , 72.2655962 , 69.00535384, 70.10610031,\n",
       "       71.40024805, 72.17032309, 69.52482393, 71.72635615, 71.59612086,\n",
       "       70.03119055, 70.62937149, 69.28624179, 71.8764945 , 71.08548767,\n",
       "       71.15860042, 72.41445333, 71.38045527, 71.76007018, 69.06109172,\n",
       "       72.01160881, 69.46583349, 69.97885943, 72.05753183, 71.06134981,\n",
       "       70.14691392, 72.68272426, 70.44982588, 72.00995676, 70.87678863])"
      ]
     },
     "execution_count": 277,
     "metadata": {},
     "output_type": "execute_result"
    }
   ],
   "source": [
    "PredTest"
   ]
  },
  {
   "cell_type": "markdown",
   "metadata": {},
   "source": [
    "Which state do we predict to have the lowest life expectancy?"
   ]
  },
  {
   "cell_type": "code",
   "execution_count": 278,
   "metadata": {},
   "outputs": [
    {
     "data": {
      "text/html": [
       "<div>\n",
       "<style scoped>\n",
       "    .dataframe tbody tr th:only-of-type {\n",
       "        vertical-align: middle;\n",
       "    }\n",
       "\n",
       "    .dataframe tbody tr th {\n",
       "        vertical-align: top;\n",
       "    }\n",
       "\n",
       "    .dataframe thead th {\n",
       "        text-align: right;\n",
       "    }\n",
       "</style>\n",
       "<table border=\"1\" class=\"dataframe\">\n",
       "  <thead>\n",
       "    <tr style=\"text-align: right;\">\n",
       "      <th></th>\n",
       "      <th>Population</th>\n",
       "      <th>Income</th>\n",
       "      <th>Illiteracy</th>\n",
       "      <th>Life.Exp</th>\n",
       "      <th>Murder</th>\n",
       "      <th>HS.Grad</th>\n",
       "      <th>Frost</th>\n",
       "      <th>Area</th>\n",
       "      <th>state.abb</th>\n",
       "      <th>state.area</th>\n",
       "      <th>x</th>\n",
       "      <th>y</th>\n",
       "      <th>state.division</th>\n",
       "      <th>state.name</th>\n",
       "      <th>state.region</th>\n",
       "    </tr>\n",
       "  </thead>\n",
       "  <tbody>\n",
       "    <tr>\n",
       "      <th>0</th>\n",
       "      <td>3615</td>\n",
       "      <td>3624</td>\n",
       "      <td>2.1</td>\n",
       "      <td>69.05</td>\n",
       "      <td>15.1</td>\n",
       "      <td>41.3</td>\n",
       "      <td>20</td>\n",
       "      <td>50708</td>\n",
       "      <td>AL</td>\n",
       "      <td>51609</td>\n",
       "      <td>-86.7509</td>\n",
       "      <td>32.5901</td>\n",
       "      <td>East South Central</td>\n",
       "      <td>Alabama</td>\n",
       "      <td>South</td>\n",
       "    </tr>\n",
       "  </tbody>\n",
       "</table>\n",
       "</div>"
      ],
      "text/plain": [
       "   Population  Income  Illiteracy  Life.Exp  Murder  HS.Grad  Frost   Area  \\\n",
       "0        3615    3624         2.1     69.05    15.1     41.3     20  50708   \n",
       "\n",
       "  state.abb  state.area        x        y      state.division state.name  \\\n",
       "0        AL       51609 -86.7509  32.5901  East South Central    Alabama   \n",
       "\n",
       "  state.region  \n",
       "0        South  "
      ]
     },
     "execution_count": 278,
     "metadata": {},
     "output_type": "execute_result"
    }
   ],
   "source": [
    "statedata[PredTest == PredTest.min()]"
   ]
  },
  {
   "cell_type": "markdown",
   "metadata": {},
   "source": [
    "Which state actually has the lowest life expectancy?"
   ]
  },
  {
   "cell_type": "code",
   "execution_count": 279,
   "metadata": {},
   "outputs": [
    {
     "data": {
      "text/html": [
       "<div>\n",
       "<style scoped>\n",
       "    .dataframe tbody tr th:only-of-type {\n",
       "        vertical-align: middle;\n",
       "    }\n",
       "\n",
       "    .dataframe tbody tr th {\n",
       "        vertical-align: top;\n",
       "    }\n",
       "\n",
       "    .dataframe thead th {\n",
       "        text-align: right;\n",
       "    }\n",
       "</style>\n",
       "<table border=\"1\" class=\"dataframe\">\n",
       "  <thead>\n",
       "    <tr style=\"text-align: right;\">\n",
       "      <th></th>\n",
       "      <th>Population</th>\n",
       "      <th>Income</th>\n",
       "      <th>Illiteracy</th>\n",
       "      <th>Life.Exp</th>\n",
       "      <th>Murder</th>\n",
       "      <th>HS.Grad</th>\n",
       "      <th>Frost</th>\n",
       "      <th>Area</th>\n",
       "      <th>state.abb</th>\n",
       "      <th>state.area</th>\n",
       "      <th>x</th>\n",
       "      <th>y</th>\n",
       "      <th>state.division</th>\n",
       "      <th>state.name</th>\n",
       "      <th>state.region</th>\n",
       "    </tr>\n",
       "  </thead>\n",
       "  <tbody>\n",
       "    <tr>\n",
       "      <th>39</th>\n",
       "      <td>2816</td>\n",
       "      <td>3635</td>\n",
       "      <td>2.3</td>\n",
       "      <td>67.96</td>\n",
       "      <td>11.6</td>\n",
       "      <td>37.8</td>\n",
       "      <td>65</td>\n",
       "      <td>30225</td>\n",
       "      <td>SC</td>\n",
       "      <td>31055</td>\n",
       "      <td>-80.5056</td>\n",
       "      <td>33.619</td>\n",
       "      <td>South Atlantic</td>\n",
       "      <td>South Carolina</td>\n",
       "      <td>South</td>\n",
       "    </tr>\n",
       "  </tbody>\n",
       "</table>\n",
       "</div>"
      ],
      "text/plain": [
       "    Population  Income  Illiteracy  Life.Exp  Murder  HS.Grad  Frost   Area  \\\n",
       "39        2816    3635         2.3     67.96    11.6     37.8     65  30225   \n",
       "\n",
       "   state.abb  state.area        x       y  state.division      state.name  \\\n",
       "39        SC       31055 -80.5056  33.619  South Atlantic  South Carolina   \n",
       "\n",
       "   state.region  \n",
       "39        South  "
      ]
     },
     "execution_count": 279,
     "metadata": {},
     "output_type": "execute_result"
    }
   ],
   "source": [
    "statedata[statedata[\"Life.Exp\"] == statedata[\"Life.Exp\"].min()]"
   ]
  },
  {
   "cell_type": "markdown",
   "metadata": {},
   "source": [
    "Which state do we predict to have the highest life expectancy?"
   ]
  },
  {
   "cell_type": "code",
   "execution_count": 280,
   "metadata": {},
   "outputs": [
    {
     "data": {
      "text/html": [
       "<div>\n",
       "<style scoped>\n",
       "    .dataframe tbody tr th:only-of-type {\n",
       "        vertical-align: middle;\n",
       "    }\n",
       "\n",
       "    .dataframe tbody tr th {\n",
       "        vertical-align: top;\n",
       "    }\n",
       "\n",
       "    .dataframe thead th {\n",
       "        text-align: right;\n",
       "    }\n",
       "</style>\n",
       "<table border=\"1\" class=\"dataframe\">\n",
       "  <thead>\n",
       "    <tr style=\"text-align: right;\">\n",
       "      <th></th>\n",
       "      <th>Population</th>\n",
       "      <th>Income</th>\n",
       "      <th>Illiteracy</th>\n",
       "      <th>Life.Exp</th>\n",
       "      <th>Murder</th>\n",
       "      <th>HS.Grad</th>\n",
       "      <th>Frost</th>\n",
       "      <th>Area</th>\n",
       "      <th>state.abb</th>\n",
       "      <th>state.area</th>\n",
       "      <th>x</th>\n",
       "      <th>y</th>\n",
       "      <th>state.division</th>\n",
       "      <th>state.name</th>\n",
       "      <th>state.region</th>\n",
       "    </tr>\n",
       "  </thead>\n",
       "  <tbody>\n",
       "    <tr>\n",
       "      <th>46</th>\n",
       "      <td>3559</td>\n",
       "      <td>4864</td>\n",
       "      <td>0.6</td>\n",
       "      <td>71.72</td>\n",
       "      <td>4.3</td>\n",
       "      <td>63.5</td>\n",
       "      <td>32</td>\n",
       "      <td>66570</td>\n",
       "      <td>WA</td>\n",
       "      <td>68192</td>\n",
       "      <td>-119.746</td>\n",
       "      <td>47.4231</td>\n",
       "      <td>Pacific</td>\n",
       "      <td>Washington</td>\n",
       "      <td>West</td>\n",
       "    </tr>\n",
       "  </tbody>\n",
       "</table>\n",
       "</div>"
      ],
      "text/plain": [
       "    Population  Income  Illiteracy  Life.Exp  Murder  HS.Grad  Frost   Area  \\\n",
       "46        3559    4864         0.6     71.72     4.3     63.5     32  66570   \n",
       "\n",
       "   state.abb  state.area        x        y state.division  state.name  \\\n",
       "46        WA       68192 -119.746  47.4231        Pacific  Washington   \n",
       "\n",
       "   state.region  \n",
       "46         West  "
      ]
     },
     "execution_count": 280,
     "metadata": {},
     "output_type": "execute_result"
    }
   ],
   "source": [
    "statedata[PredTest == PredTest.max()]"
   ]
  },
  {
   "cell_type": "markdown",
   "metadata": {},
   "source": [
    "Which state actually has the highest life expectancy?"
   ]
  },
  {
   "cell_type": "code",
   "execution_count": 281,
   "metadata": {},
   "outputs": [
    {
     "data": {
      "text/html": [
       "<div>\n",
       "<style scoped>\n",
       "    .dataframe tbody tr th:only-of-type {\n",
       "        vertical-align: middle;\n",
       "    }\n",
       "\n",
       "    .dataframe tbody tr th {\n",
       "        vertical-align: top;\n",
       "    }\n",
       "\n",
       "    .dataframe thead th {\n",
       "        text-align: right;\n",
       "    }\n",
       "</style>\n",
       "<table border=\"1\" class=\"dataframe\">\n",
       "  <thead>\n",
       "    <tr style=\"text-align: right;\">\n",
       "      <th></th>\n",
       "      <th>Population</th>\n",
       "      <th>Income</th>\n",
       "      <th>Illiteracy</th>\n",
       "      <th>Life.Exp</th>\n",
       "      <th>Murder</th>\n",
       "      <th>HS.Grad</th>\n",
       "      <th>Frost</th>\n",
       "      <th>Area</th>\n",
       "      <th>state.abb</th>\n",
       "      <th>state.area</th>\n",
       "      <th>x</th>\n",
       "      <th>y</th>\n",
       "      <th>state.division</th>\n",
       "      <th>state.name</th>\n",
       "      <th>state.region</th>\n",
       "    </tr>\n",
       "  </thead>\n",
       "  <tbody>\n",
       "    <tr>\n",
       "      <th>10</th>\n",
       "      <td>868</td>\n",
       "      <td>4963</td>\n",
       "      <td>1.9</td>\n",
       "      <td>73.6</td>\n",
       "      <td>6.2</td>\n",
       "      <td>61.9</td>\n",
       "      <td>0</td>\n",
       "      <td>6425</td>\n",
       "      <td>HI</td>\n",
       "      <td>6450</td>\n",
       "      <td>-126.25</td>\n",
       "      <td>31.75</td>\n",
       "      <td>Pacific</td>\n",
       "      <td>Hawaii</td>\n",
       "      <td>West</td>\n",
       "    </tr>\n",
       "  </tbody>\n",
       "</table>\n",
       "</div>"
      ],
      "text/plain": [
       "    Population  Income  Illiteracy  Life.Exp  Murder  HS.Grad  Frost  Area  \\\n",
       "10         868    4963         1.9      73.6     6.2     61.9      0  6425   \n",
       "\n",
       "   state.abb  state.area       x      y state.division state.name state.region  \n",
       "10        HI        6450 -126.25  31.75        Pacific     Hawaii         West  "
      ]
     },
     "execution_count": 281,
     "metadata": {},
     "output_type": "execute_result"
    }
   ],
   "source": [
    "statedata[statedata[\"Life.Exp\"] == statedata[\"Life.Exp\"].max()]"
   ]
  },
  {
   "cell_type": "markdown",
   "metadata": {},
   "source": [
    "We take a look at the vector of residuals (the difference between the predicted and actual values)."
   ]
  },
  {
   "cell_type": "code",
   "execution_count": 286,
   "metadata": {},
   "outputs": [],
   "source": [
    " residual = statedata[\"Life.Exp\"].values - PredTest"
   ]
  },
  {
   "cell_type": "code",
   "execution_count": 287,
   "metadata": {},
   "outputs": [
    {
     "data": {
      "text/plain": [
       "array([ 0.56888134, -0.54740399, -0.86415671,  1.08626119, -0.08564599,\n",
       "        0.95645816,  0.44541028, -1.06646884,  0.04460505, -0.09694227,\n",
       "        1.50683146,  0.37010714, -0.0524416 , -0.02158526,  0.16347124,\n",
       "        0.67648037,  0.85582067, -0.39044846, -1.47095411, -0.29851996,\n",
       "       -0.61105391,  0.7610664 ,  0.6944038 , -0.91535384,  0.58389969,\n",
       "       -0.84024805,  0.42967691, -0.49482393, -0.49635615, -0.66612086,\n",
       "        0.28880945, -0.07937149, -0.07624179,  0.9035055 , -0.26548767,\n",
       "        0.26139958, -0.28445333, -0.95045527,  0.13992982, -1.10109172,\n",
       "        0.06839119,  0.64416651,  0.92114057,  0.84246817,  0.57865019,\n",
       "       -0.06691392, -0.96272426, -0.96982588,  0.47004324, -0.58678863])"
      ]
     },
     "execution_count": 287,
     "metadata": {},
     "output_type": "execute_result"
    }
   ],
   "source": [
    "residual"
   ]
  },
  {
   "cell_type": "markdown",
   "metadata": {},
   "source": [
    "For which state do we make the smallest absolute error?"
   ]
  },
  {
   "cell_type": "code",
   "execution_count": 288,
   "metadata": {},
   "outputs": [
    {
     "data": {
      "text/html": [
       "<div>\n",
       "<style scoped>\n",
       "    .dataframe tbody tr th:only-of-type {\n",
       "        vertical-align: middle;\n",
       "    }\n",
       "\n",
       "    .dataframe tbody tr th {\n",
       "        vertical-align: top;\n",
       "    }\n",
       "\n",
       "    .dataframe thead th {\n",
       "        text-align: right;\n",
       "    }\n",
       "</style>\n",
       "<table border=\"1\" class=\"dataframe\">\n",
       "  <thead>\n",
       "    <tr style=\"text-align: right;\">\n",
       "      <th></th>\n",
       "      <th>Population</th>\n",
       "      <th>Income</th>\n",
       "      <th>Illiteracy</th>\n",
       "      <th>Life.Exp</th>\n",
       "      <th>Murder</th>\n",
       "      <th>HS.Grad</th>\n",
       "      <th>Frost</th>\n",
       "      <th>Area</th>\n",
       "      <th>state.abb</th>\n",
       "      <th>state.area</th>\n",
       "      <th>x</th>\n",
       "      <th>y</th>\n",
       "      <th>state.division</th>\n",
       "      <th>state.name</th>\n",
       "      <th>state.region</th>\n",
       "    </tr>\n",
       "  </thead>\n",
       "  <tbody>\n",
       "    <tr>\n",
       "      <th>18</th>\n",
       "      <td>1058</td>\n",
       "      <td>3694</td>\n",
       "      <td>0.7</td>\n",
       "      <td>70.39</td>\n",
       "      <td>2.7</td>\n",
       "      <td>54.7</td>\n",
       "      <td>161</td>\n",
       "      <td>30920</td>\n",
       "      <td>ME</td>\n",
       "      <td>33215</td>\n",
       "      <td>-68.9801</td>\n",
       "      <td>45.6226</td>\n",
       "      <td>New England</td>\n",
       "      <td>Maine</td>\n",
       "      <td>Northeast</td>\n",
       "    </tr>\n",
       "  </tbody>\n",
       "</table>\n",
       "</div>"
      ],
      "text/plain": [
       "    Population  Income  Illiteracy  Life.Exp  Murder  HS.Grad  Frost   Area  \\\n",
       "18        1058    3694         0.7     70.39     2.7     54.7    161  30920   \n",
       "\n",
       "   state.abb  state.area        x        y state.division state.name  \\\n",
       "18        ME       33215 -68.9801  45.6226    New England      Maine   \n",
       "\n",
       "   state.region  \n",
       "18    Northeast  "
      ]
     },
     "execution_count": 288,
     "metadata": {},
     "output_type": "execute_result"
    }
   ],
   "source": [
    "statedata[residual == residual.min()]"
   ]
  },
  {
   "cell_type": "markdown",
   "metadata": {},
   "source": [
    "For which state do we make the largest absolute error?"
   ]
  },
  {
   "cell_type": "code",
   "execution_count": 289,
   "metadata": {},
   "outputs": [
    {
     "data": {
      "text/html": [
       "<div>\n",
       "<style scoped>\n",
       "    .dataframe tbody tr th:only-of-type {\n",
       "        vertical-align: middle;\n",
       "    }\n",
       "\n",
       "    .dataframe tbody tr th {\n",
       "        vertical-align: top;\n",
       "    }\n",
       "\n",
       "    .dataframe thead th {\n",
       "        text-align: right;\n",
       "    }\n",
       "</style>\n",
       "<table border=\"1\" class=\"dataframe\">\n",
       "  <thead>\n",
       "    <tr style=\"text-align: right;\">\n",
       "      <th></th>\n",
       "      <th>Population</th>\n",
       "      <th>Income</th>\n",
       "      <th>Illiteracy</th>\n",
       "      <th>Life.Exp</th>\n",
       "      <th>Murder</th>\n",
       "      <th>HS.Grad</th>\n",
       "      <th>Frost</th>\n",
       "      <th>Area</th>\n",
       "      <th>state.abb</th>\n",
       "      <th>state.area</th>\n",
       "      <th>x</th>\n",
       "      <th>y</th>\n",
       "      <th>state.division</th>\n",
       "      <th>state.name</th>\n",
       "      <th>state.region</th>\n",
       "    </tr>\n",
       "  </thead>\n",
       "  <tbody>\n",
       "    <tr>\n",
       "      <th>10</th>\n",
       "      <td>868</td>\n",
       "      <td>4963</td>\n",
       "      <td>1.9</td>\n",
       "      <td>73.6</td>\n",
       "      <td>6.2</td>\n",
       "      <td>61.9</td>\n",
       "      <td>0</td>\n",
       "      <td>6425</td>\n",
       "      <td>HI</td>\n",
       "      <td>6450</td>\n",
       "      <td>-126.25</td>\n",
       "      <td>31.75</td>\n",
       "      <td>Pacific</td>\n",
       "      <td>Hawaii</td>\n",
       "      <td>West</td>\n",
       "    </tr>\n",
       "  </tbody>\n",
       "</table>\n",
       "</div>"
      ],
      "text/plain": [
       "    Population  Income  Illiteracy  Life.Exp  Murder  HS.Grad  Frost  Area  \\\n",
       "10         868    4963         1.9      73.6     6.2     61.9      0  6425   \n",
       "\n",
       "   state.abb  state.area       x      y state.division state.name state.region  \n",
       "10        HI        6450 -126.25  31.75        Pacific     Hawaii         West  "
      ]
     },
     "execution_count": 289,
     "metadata": {},
     "output_type": "execute_result"
    }
   ],
   "source": [
    "statedata[residual == residual.max()]"
   ]
  },
  {
   "cell_type": "code",
   "execution_count": null,
   "metadata": {},
   "outputs": [],
   "source": []
  }
 ],
 "metadata": {
  "kernelspec": {
   "display_name": "Python 3",
   "language": "python",
   "name": "python3"
  },
  "language_info": {
   "codemirror_mode": {
    "name": "ipython",
    "version": 3
   },
   "file_extension": ".py",
   "mimetype": "text/x-python",
   "name": "python",
   "nbconvert_exporter": "python",
   "pygments_lexer": "ipython3",
   "version": "3.7.3"
  }
 },
 "nbformat": 4,
 "nbformat_minor": 2
}
